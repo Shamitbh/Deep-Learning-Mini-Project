{
  "nbformat": 4,
  "nbformat_minor": 0,
  "metadata": {
    "colab": {
      "provenance": []
    },
    "kernelspec": {
      "name": "python3",
      "display_name": "Python 3"
    },
    "language_info": {
      "name": "python"
    },
    "accelerator": "GPU",
    "gpuClass": "standard"
  },
  "cells": [
    {
      "cell_type": "code",
      "execution_count": 1,
      "metadata": {
        "id": "C-kf8Xg7Y3T9"
      },
      "outputs": [],
      "source": [
        "import torch, torchvision\n",
        "import torchvision.transforms as transforms\n",
        "import torch.nn as nn, torch.nn.functional as F\n",
        "import torch.optim as optim, torch.utils.data as data\n",
        "import torchvision.datasets as datasets\n",
        "import time, copy, random, os, numpy as np\n",
        "import matplotlib.pyplot as plt\n",
        "from torchvision.transforms.autoaugment import AutoAugmentPolicy\n",
        "from torch.optim.lr_scheduler import ReduceLROnPlateau, OneCycleLR\n",
        "from torch.utils.data import random_split\n",
        "from torchsummary import summary"
      ]
    },
    {
      "cell_type": "code",
      "source": [
        "BATCH_SIZE = 64\n",
        "INPUT_SIZE = (3, 32, 32)\n",
        "EPOCHS = 100\n",
        "LEARNING_RATE = 1e-3\n"
      ],
      "metadata": {
        "id": "0zxGQmq6eIHW"
      },
      "execution_count": 2,
      "outputs": []
    },
    {
      "cell_type": "code",
      "source": [
        "#Verify GPU\n",
        "!nvidia-smi"
      ],
      "metadata": {
        "colab": {
          "base_uri": "https://localhost:8080/"
        },
        "id": "ZKIsJbu7dVwT",
        "outputId": "b622375c-2b29-4f95-cafb-3b69f092a19a"
      },
      "execution_count": 3,
      "outputs": [
        {
          "output_type": "stream",
          "name": "stdout",
          "text": [
            "Sun Apr  9 19:52:49 2023       \n",
            "+-----------------------------------------------------------------------------+\n",
            "| NVIDIA-SMI 525.85.12    Driver Version: 525.85.12    CUDA Version: 12.0     |\n",
            "|-------------------------------+----------------------+----------------------+\n",
            "| GPU  Name        Persistence-M| Bus-Id        Disp.A | Volatile Uncorr. ECC |\n",
            "| Fan  Temp  Perf  Pwr:Usage/Cap|         Memory-Usage | GPU-Util  Compute M. |\n",
            "|                               |                      |               MIG M. |\n",
            "|===============================+======================+======================|\n",
            "|   0  Tesla T4            Off  | 00000000:00:04.0 Off |                    0 |\n",
            "| N/A   48C    P8    10W /  70W |      0MiB / 15360MiB |      0%      Default |\n",
            "|                               |                      |                  N/A |\n",
            "+-------------------------------+----------------------+----------------------+\n",
            "                                                                               \n",
            "+-----------------------------------------------------------------------------+\n",
            "| Processes:                                                                  |\n",
            "|  GPU   GI   CI        PID   Type   Process name                  GPU Memory |\n",
            "|        ID   ID                                                   Usage      |\n",
            "|=============================================================================|\n",
            "|  No running processes found                                                 |\n",
            "+-----------------------------------------------------------------------------+\n"
          ]
        }
      ]
    },
    {
      "cell_type": "code",
      "source": [
        "# Specify device\n",
        "device = torch.device('cuda' if torch.cuda.is_available() else 'cpu')"
      ],
      "metadata": {
        "id": "aS6W6SIcdk5G"
      },
      "execution_count": 4,
      "outputs": []
    },
    {
      "cell_type": "code",
      "source": [
        "# Sets the seed for numpy and torch to make sure functions with a random component behave deterministically\n",
        "# torch.backends.cudnn.deterministic = true sets the CuDNN to deterministic mode.\n",
        "# This function allows us to run experiments 100% deterministically.\n",
        "# https://gist.github.com/ihoromi4/b681a9088f348942b01711f251e5f964\n",
        "\n",
        "def seed_everything(seed=1234):\n",
        "    random.seed(seed)\n",
        "    os.environ['PYTHONHASHSEED'] = str(seed)\n",
        "    np.random.seed(seed)\n",
        "    torch.manual_seed(seed)\n",
        "    torch.cuda.manual_seed(seed)\n",
        "    torch.backends.cudnn.deterministic = True\n",
        "    torch.backends.cudnn.benchmark = True\n",
        "\n",
        "seed_everything()"
      ],
      "metadata": {
        "id": "0N5DwCYsdKo1"
      },
      "execution_count": 5,
      "outputs": []
    },
    {
      "cell_type": "markdown",
      "source": [
        "# 1.  Load and Batch the Data"
      ],
      "metadata": {
        "id": "2pORWSiUdu7P"
      }
    },
    {
      "cell_type": "code",
      "source": [
        "def get_data_loaders(batch_size, root = '.data', valid_ratio = 0.1):\n",
        "  \n",
        "    #means and stds for the 3 channels of the dataset\n",
        "    means = (0.4914, 0.4822, 0.4465)\n",
        "    stds = (0.2023, 0.1994, 0.2010)\n",
        "\n",
        "    #   Performs the following data augmentations on the training set:\n",
        "    #       1.  Random Rotation:  \n",
        "    #       2.  RandomHorizontalFlip\n",
        "    #       3.  Random Crop\n",
        "    #       4.  AutoAugment: AutoAugmention policies learned from the CIFAR10 dataset\n",
        "    #           AutoAugment: Learning Augmentation Strategies from Data\" <https://arxiv.org/pdf/1805.09501.pdf>`\n",
        "    train_transforms = transforms.Compose([\n",
        "                           transforms.RandomRotation(5),\n",
        "                           transforms.RandomHorizontalFlip(0.5),\n",
        "                           transforms.RandomCrop(32, padding = 2),\n",
        "                           transforms.AutoAugment(AutoAugmentPolicy.CIFAR10),\n",
        "                           transforms.ToTensor(),  # convert data to torch.FloatTensor: CxHxW\n",
        "                           transforms.Normalize(mean = means, std = stds, inplace=True), #Range is in [-1,1], data = (data - mean)/std\n",
        "                       ])\n",
        "\n",
        "    test_transforms = transforms.Compose([\n",
        "                           transforms.ToTensor(),\n",
        "                           transforms.Normalize(mean = means, std = stds, inplace=True),\n",
        "                       ])\n",
        "\n",
        "    # choose the training and test datasets\n",
        "    train_data = datasets.CIFAR10(root, \n",
        "                              train = True, \n",
        "                              download = True, \n",
        "                              transform = train_transforms)\n",
        "    \n",
        "    test_data = datasets.CIFAR10(root, \n",
        "                             train = False, \n",
        "                             download = True, \n",
        "                             transform = test_transforms)\n",
        "    \n",
        "    # obtain number of training/validation examples that will be used to create the respective datasets \n",
        "    n_train_examples = int((1 - valid_ratio) * len(train_data))\n",
        "    n_valid_examples = int(valid_ratio* len(train_data))\n",
        "\n",
        "    train_data, valid_data = random_split(train_data, [n_train_examples, n_valid_examples])\n",
        "    \n",
        "    #Creates a deep copy\n",
        "    valid_data = copy.deepcopy(valid_data)  \n",
        "    valid_data.dataset.transform = test_transforms\n",
        "\n",
        "    # load training data in batches\n",
        "    train_dataloader = data.DataLoader(train_data,\n",
        "                                 shuffle = True,\n",
        "                                 batch_size = batch_size,\n",
        "                                 num_workers=2, \n",
        "                                 pin_memory=True)   #pin_memory speeds transfer of data from CPU to GPU\n",
        "\n",
        "    # load validation data in batches\n",
        "    valid_dataloader = data.DataLoader(valid_data,\n",
        "                                 batch_size = batch_size,\n",
        "                                 num_workers=2, \n",
        "                                 pin_memory=True)\n",
        "\n",
        "    # load test data in batches\n",
        "    test_dataloader = data.DataLoader(test_data,\n",
        "                                batch_size = batch_size,\n",
        "                                num_workers=2, \n",
        "                                pin_memory=True)\n",
        "  \n",
        "    return train_dataloader, valid_dataloader, test_dataloader"
      ],
      "metadata": {
        "id": "IhH-Oy98ZYMR"
      },
      "execution_count": 6,
      "outputs": []
    },
    {
      "cell_type": "code",
      "source": [
        "# Load and batch the data\n",
        "train_dataloader, valid_dataloader, test_dataloader = get_data_loaders(BATCH_SIZE)"
      ],
      "metadata": {
        "colab": {
          "base_uri": "https://localhost:8080/"
        },
        "id": "c4DF_d-weBAm",
        "outputId": "81b5c3b5-e5d3-4df3-e3d9-ec09f5fa69af"
      },
      "execution_count": 7,
      "outputs": [
        {
          "output_type": "stream",
          "name": "stdout",
          "text": [
            "Downloading https://www.cs.toronto.edu/~kriz/cifar-10-python.tar.gz to .data/cifar-10-python.tar.gz\n"
          ]
        },
        {
          "output_type": "stream",
          "name": "stderr",
          "text": [
            "100%|██████████| 170498071/170498071 [00:13<00:00, 12918390.41it/s]\n"
          ]
        },
        {
          "output_type": "stream",
          "name": "stdout",
          "text": [
            "Extracting .data/cifar-10-python.tar.gz to .data\n",
            "Files already downloaded and verified\n"
          ]
        }
      ]
    },
    {
      "cell_type": "markdown",
      "source": [
        "# 2.  Define the Network"
      ],
      "metadata": {
        "id": "0jsE8g_LZoOW"
      }
    },
    {
      "cell_type": "code",
      "source": [
        "'''ResNet in PyTorch.\n",
        "For Pre-activation ResNet, see 'preact_resnet.py'.\n",
        "Reference:\n",
        "[1] Kaiming He, Xiangyu Zhang, Shaoqing Ren, Jian Sun\n",
        "    Deep Residual Learning for Image Recognition. arXiv:1512.03385\n",
        "'''\n",
        "\n",
        "#Residual Block\n",
        "class BasicBlock(nn.Module):\n",
        "    expansion = 1\n",
        "\n",
        "    def __init__(self, in_planes, planes, stride=1):\n",
        "        super(BasicBlock, self).__init__()\n",
        "        self.conv1 = nn.Conv2d(\n",
        "            in_planes, planes, kernel_size=3, stride=stride, padding=1, bias=False)\n",
        "        self.bn1 = nn.BatchNorm2d(planes)\n",
        "        self.conv2 = nn.Conv2d(planes, planes, kernel_size=3,\n",
        "                               stride=1, padding=1, bias=False)\n",
        "        self.bn2 = nn.BatchNorm2d(planes)\n",
        "        self.shortcut = nn.Sequential()\n",
        "        if stride != 1 or in_planes != self.expansion*planes:\n",
        "            self.shortcut = nn.Sequential(\n",
        "                nn.Conv2d(in_planes, self.expansion*planes,\n",
        "                          kernel_size=1,stride=stride, bias=False),\n",
        "                nn.BatchNorm2d(self.expansion*planes)\n",
        "            )\n",
        "\n",
        "    def forward(self, x):\n",
        "        out = F.relu(self.bn1(self.conv1(x)))\n",
        "        out = self.bn2(self.conv2(out))\n",
        "        out += self.shortcut(x)\n",
        "        out = F.relu(out)\n",
        "        return out\n",
        "\n",
        "#1. Convolutional Layer: conv1\n",
        "#2. Residual Layers: layer1, layer2, layer3, layer4\n",
        "#3. Fully Connected Layer: linear\n",
        "class ResNet(nn.Module):\n",
        "    def __init__(self, block, num_blocks, num_classes=10):\n",
        "        super(ResNet, self).__init__()\n",
        "        self.in_planes = 32\n",
        "\n",
        "        self.conv1 = nn.Conv2d(3, 32, kernel_size=3,\n",
        "                               stride=1, padding=1, bias=False)\n",
        "        self.bn1 = nn.BatchNorm2d(32)\n",
        "        self.layer1 = self._make_layer(block, 32, num_blocks[0], stride=1)\n",
        "        self.layer2 = self._make_layer(block, 64, num_blocks[1], stride=2)\n",
        "        self.layer3 = self._make_layer(block, 256, num_blocks[2], stride=2)\n",
        "        self.layer4 = self._make_layer(block, 256, num_blocks[3], stride=2)\n",
        "        self.linear = nn.Linear(256*block.expansion, num_classes)\n",
        "\n",
        "    def _make_layer(self, block, planes, num_blocks, stride):\n",
        "        strides = [stride] + [1]*(num_blocks-1)\n",
        "        layers = []\n",
        "        for stride in strides:\n",
        "            layers.append(block(self.in_planes, planes, stride))\n",
        "            self.in_planes = planes * block.expansion\n",
        "        return nn.Sequential(*layers)\n",
        "\n",
        "    def forward(self, x):\n",
        "        out = F.relu(self.bn1(self.conv1(x)))\n",
        "        out = self.layer1(out)\n",
        "        out = self.layer2(out)\n",
        "        out = self.layer3(out)\n",
        "        out = self.layer4(out)\n",
        "        out = F.avg_pool2d(out, 4)\n",
        "        out = out.view(out.size(0), -1)\n",
        "        out = self.linear(out)\n",
        "        return out\n",
        "\n",
        "#ResNet18 has 4 residual layers, each composed of a specifed number of residual blocks\n",
        "def ResNet18():\n",
        "    return ResNet(BasicBlock, [2, 2, 2, 2])\n"
      ],
      "metadata": {
        "id": "EIxB9njiZq5U"
      },
      "execution_count": 8,
      "outputs": []
    },
    {
      "cell_type": "markdown",
      "source": [
        "# 3.  Specify Model, Loss Function, Optimizer, and Scheduler"
      ],
      "metadata": {
        "id": "mguuWb2MefkD"
      }
    },
    {
      "cell_type": "code",
      "source": [
        "# Specify the model, loss function, and optimizer; move model to device\n",
        "model = ResNet18().to(device)\n",
        "criterion = nn.CrossEntropyLoss()\n",
        "optimizer = torch.optim.Adam(model.parameters(), lr=LEARNING_RATE)\n",
        "\n",
        "# Specify scheduler\n",
        "scheduler = ReduceLROnPlateau(optimizer, 'min')"
      ],
      "metadata": {
        "id": "GIB_kgmNejIb"
      },
      "execution_count": 9,
      "outputs": []
    },
    {
      "cell_type": "code",
      "source": [
        "# Check total number of parameters\n",
        "summary(model, input_size=INPUT_SIZE)"
      ],
      "metadata": {
        "colab": {
          "base_uri": "https://localhost:8080/"
        },
        "id": "PFzNX4yZfJ6-",
        "outputId": "1d8ce529-6527-4eaa-ac84-a3ea06cca9ee"
      },
      "execution_count": 10,
      "outputs": [
        {
          "output_type": "stream",
          "name": "stdout",
          "text": [
            "----------------------------------------------------------------\n",
            "        Layer (type)               Output Shape         Param #\n",
            "================================================================\n",
            "            Conv2d-1           [-1, 32, 32, 32]             864\n",
            "       BatchNorm2d-2           [-1, 32, 32, 32]              64\n",
            "            Conv2d-3           [-1, 32, 32, 32]           9,216\n",
            "       BatchNorm2d-4           [-1, 32, 32, 32]              64\n",
            "            Conv2d-5           [-1, 32, 32, 32]           9,216\n",
            "       BatchNorm2d-6           [-1, 32, 32, 32]              64\n",
            "        BasicBlock-7           [-1, 32, 32, 32]               0\n",
            "            Conv2d-8           [-1, 32, 32, 32]           9,216\n",
            "       BatchNorm2d-9           [-1, 32, 32, 32]              64\n",
            "           Conv2d-10           [-1, 32, 32, 32]           9,216\n",
            "      BatchNorm2d-11           [-1, 32, 32, 32]              64\n",
            "       BasicBlock-12           [-1, 32, 32, 32]               0\n",
            "           Conv2d-13           [-1, 64, 16, 16]          18,432\n",
            "      BatchNorm2d-14           [-1, 64, 16, 16]             128\n",
            "           Conv2d-15           [-1, 64, 16, 16]          36,864\n",
            "      BatchNorm2d-16           [-1, 64, 16, 16]             128\n",
            "           Conv2d-17           [-1, 64, 16, 16]           2,048\n",
            "      BatchNorm2d-18           [-1, 64, 16, 16]             128\n",
            "       BasicBlock-19           [-1, 64, 16, 16]               0\n",
            "           Conv2d-20           [-1, 64, 16, 16]          36,864\n",
            "      BatchNorm2d-21           [-1, 64, 16, 16]             128\n",
            "           Conv2d-22           [-1, 64, 16, 16]          36,864\n",
            "      BatchNorm2d-23           [-1, 64, 16, 16]             128\n",
            "       BasicBlock-24           [-1, 64, 16, 16]               0\n",
            "           Conv2d-25            [-1, 256, 8, 8]         147,456\n",
            "      BatchNorm2d-26            [-1, 256, 8, 8]             512\n",
            "           Conv2d-27            [-1, 256, 8, 8]         589,824\n",
            "      BatchNorm2d-28            [-1, 256, 8, 8]             512\n",
            "           Conv2d-29            [-1, 256, 8, 8]          16,384\n",
            "      BatchNorm2d-30            [-1, 256, 8, 8]             512\n",
            "       BasicBlock-31            [-1, 256, 8, 8]               0\n",
            "           Conv2d-32            [-1, 256, 8, 8]         589,824\n",
            "      BatchNorm2d-33            [-1, 256, 8, 8]             512\n",
            "           Conv2d-34            [-1, 256, 8, 8]         589,824\n",
            "      BatchNorm2d-35            [-1, 256, 8, 8]             512\n",
            "       BasicBlock-36            [-1, 256, 8, 8]               0\n",
            "           Conv2d-37            [-1, 256, 4, 4]         589,824\n",
            "      BatchNorm2d-38            [-1, 256, 4, 4]             512\n",
            "           Conv2d-39            [-1, 256, 4, 4]         589,824\n",
            "      BatchNorm2d-40            [-1, 256, 4, 4]             512\n",
            "           Conv2d-41            [-1, 256, 4, 4]          65,536\n",
            "      BatchNorm2d-42            [-1, 256, 4, 4]             512\n",
            "       BasicBlock-43            [-1, 256, 4, 4]               0\n",
            "           Conv2d-44            [-1, 256, 4, 4]         589,824\n",
            "      BatchNorm2d-45            [-1, 256, 4, 4]             512\n",
            "           Conv2d-46            [-1, 256, 4, 4]         589,824\n",
            "      BatchNorm2d-47            [-1, 256, 4, 4]             512\n",
            "       BasicBlock-48            [-1, 256, 4, 4]               0\n",
            "           Linear-49                   [-1, 10]           2,570\n",
            "================================================================\n",
            "Total params: 4,535,594\n",
            "Trainable params: 4,535,594\n",
            "Non-trainable params: 0\n",
            "----------------------------------------------------------------\n",
            "Input size (MB): 0.01\n",
            "Forward/backward pass size (MB): 6.38\n",
            "Params size (MB): 17.30\n",
            "Estimated Total Size (MB): 23.69\n",
            "----------------------------------------------------------------\n"
          ]
        }
      ]
    },
    {
      "cell_type": "markdown",
      "source": [
        "#4. Training and Validation"
      ],
      "metadata": {
        "id": "XiMFn7HYffbw"
      }
    },
    {
      "cell_type": "code",
      "source": [
        "# accuracy is the fraction of predictions the model got correct\n",
        "def calculate_accuracy(y_pred, y):\n",
        "    top_pred = y_pred.argmax(1, keepdim = True)\n",
        "    correct = top_pred.eq(y.view_as(top_pred)).sum()\n",
        "    acc = correct.float() / y.shape[0]\n",
        "    return acc\n",
        "\n",
        "# time interval for each epoch\n",
        "def epoch_time(start_time, end_time):\n",
        "    elapsed_time = end_time - start_time\n",
        "    elapsed_mins = int(elapsed_time / 60)\n",
        "    elapsed_secs = int(elapsed_time - (elapsed_mins * 60))\n",
        "    return elapsed_mins, elapsed_secs"
      ],
      "metadata": {
        "id": "QX3sZ5hoZEOy"
      },
      "execution_count": 11,
      "outputs": []
    },
    {
      "cell_type": "code",
      "source": [
        "def train(model, iterator, optimizer, criterion, device):\n",
        "    \n",
        "    # Tracks training loss and accuracy as model trains\n",
        "    epoch_loss = 0\n",
        "    epoch_acc = 0\n",
        "    #lrs = []\n",
        "\n",
        "    # Prep model for training\n",
        "    model.train()\n",
        "\n",
        "    for (x, y) in iterator:\n",
        "        # Move inputs and labels to device\n",
        "        x = x.to(device)\n",
        "        y = y.to(device)\n",
        "        \n",
        "        # Clear the gradients of all optimized variables\n",
        "        optimizer.zero_grad()\n",
        "\n",
        "        # Forward pass: compute predicted outputs by passing inputs to the model        \n",
        "        y_pred = model(x)\n",
        "        \n",
        "        # Calculate the loss\n",
        "        loss = criterion(y_pred, y)\n",
        "        \n",
        "        # Calculate the accuracy\n",
        "        acc = calculate_accuracy(y_pred, y)\n",
        "        \n",
        "        # Backward pass: compute gradient of the loss with respect to model parameters\n",
        "        loss.backward()\n",
        "        # perform a single optimization step (parameter update)\n",
        "        optimizer.step()\n",
        "\n",
        "        #OneCycleLr Scheduler\n",
        "        #scheduler.step()\n",
        "        \n",
        "        epoch_loss += loss.item()\n",
        "        epoch_acc += acc.item()\n",
        "        \n",
        "    return epoch_loss / len(iterator), epoch_acc / len(iterator)"
      ],
      "metadata": {
        "id": "8G3N_MCHkz05"
      },
      "execution_count": 12,
      "outputs": []
    },
    {
      "cell_type": "code",
      "source": [
        "def evaluate(model, iterator, criterion, device):\n",
        "    # Keeps track of validation loss and  accuracy\n",
        "    epoch_loss = 0\n",
        "    epoch_acc = 0\n",
        "    \n",
        "    # Prep model for evaluation\n",
        "    model.eval()\n",
        "    \n",
        "    with torch.no_grad():\n",
        "        \n",
        "        for (x, y) in iterator:\n",
        "\n",
        "            x = x.to(device)\n",
        "            y = y.to(device)\n",
        "\n",
        "            # Forward Pass\n",
        "            y_pred = model(x)\n",
        "            # Calculate the validation loss\n",
        "            loss = criterion(y_pred, y)\n",
        "            #Calculate the validation accuracy\n",
        "            acc = calculate_accuracy(y_pred, y)\n",
        "\n",
        "            #Record validation loss\n",
        "            epoch_loss += loss.item()\n",
        "            epoch_acc += acc.item()\n",
        "        \n",
        "    return epoch_loss / len(iterator), epoch_acc / len(iterator)"
      ],
      "metadata": {
        "id": "HlQfhhAaf5Lo"
      },
      "execution_count": 13,
      "outputs": []
    },
    {
      "cell_type": "code",
      "source": [
        "# Train and Validate the model:\n",
        "\n",
        "# Tracks average training loss and accuracy per epoch\n",
        "#  and tracks average validation loss and accuracy per epoch\n",
        "Train_Loss = []\n",
        "Train_Acc = []\n",
        "Val_Loss = []\n",
        "Val_Acc = []\n",
        "\n",
        "\n",
        "# Tracks best validation loss\n",
        "best_valid_loss = float('inf')\n",
        "for epoch in range(EPOCHS):\n",
        "    # Epoch start time\n",
        "    start_time = time.monotonic()\n",
        "\n",
        "\n",
        "    train_loss, train_acc = train(model, train_dataloader, optimizer, criterion, device)\n",
        "    valid_loss, valid_acc = evaluate(model, valid_dataloader, criterion, device)\n",
        "  \n",
        "\n",
        "    # OnReducePlateau is a scheduler monitoring validation loss\n",
        "    scheduler.step(valid_loss)\n",
        "\n",
        "    # Saves model with best validation loss in a state dictionary\n",
        "    if valid_loss < best_valid_loss:\n",
        "        best_valid_loss = valid_loss\n",
        "        torch.save(model.state_dict(),'model.pt')\n",
        "    # Epoch end time\n",
        "    end_time = time.monotonic()\n",
        "\n",
        "    # Prints training/validation statistics as well as epoch time\n",
        "    epoch_mins, epoch_secs = epoch_time(start_time, end_time)\n",
        "    print(f'Epoch: {epoch+1:02} || EpochTime: {epoch_mins}m{epoch_secs}s')\n",
        "    print(f'\\tTrain Loss: {train_loss:.3f} || Train Acc: {train_acc*100:.2f}%')\n",
        "    print(f'\\t Val Loss: {valid_loss:.3f} ||  Val Acc: {valid_acc*100:.2f}%')\n",
        "\n",
        "    Train_Loss.append(train_loss)\n",
        "    Train_Acc.append(train_acc)\n",
        "    Val_Loss.append(valid_loss)\n",
        "    Val_Acc.append(valid_acc)\n",
        "\n"
      ],
      "metadata": {
        "colab": {
          "base_uri": "https://localhost:8080/"
        },
        "id": "pWLqb6XVgAhz",
        "outputId": "a77e34b7-c106-4102-877b-1a5ca4ceebf0"
      },
      "execution_count": 14,
      "outputs": [
        {
          "output_type": "stream",
          "name": "stdout",
          "text": [
            "Epoch: 01 || EpochTime: 0m59s\n",
            "\tTrain Loss: 1.834 || Train Acc: 33.08%\n",
            "\t Val Loss: 1.431 ||  Val Acc: 47.73%\n",
            "Epoch: 02 || EpochTime: 0m38s\n",
            "\tTrain Loss: 1.410 || Train Acc: 48.77%\n",
            "\t Val Loss: 1.139 ||  Val Acc: 60.05%\n",
            "Epoch: 03 || EpochTime: 0m39s\n",
            "\tTrain Loss: 1.180 || Train Acc: 57.78%\n",
            "\t Val Loss: 1.074 ||  Val Acc: 63.68%\n",
            "Epoch: 04 || EpochTime: 0m39s\n",
            "\tTrain Loss: 1.052 || Train Acc: 62.74%\n",
            "\t Val Loss: 1.074 ||  Val Acc: 62.66%\n",
            "Epoch: 05 || EpochTime: 0m39s\n",
            "\tTrain Loss: 0.927 || Train Acc: 67.03%\n",
            "\t Val Loss: 0.756 ||  Val Acc: 74.28%\n"
          ]
        }
      ]
    },
    {
      "cell_type": "code",
      "source": [
        "# visualize the loss as the network trained\n",
        "def get_loss_plot(train_loss, val_loss):\n",
        "    plt.plot(range(len(train_loss)),train_loss)\n",
        "    plt.plot(range(len(train_loss)),val_loss)\n",
        "    plt.ylabel('Loss')\n",
        "    plt.xlabel('Epoch')\n",
        "    plt.title('Loss')\n",
        "    plt.legend(['Training Loss', 'Validation Loss'])\n",
        "    plt.show()\n",
        "    plt.savefig('loss_plot.png')\n",
        "    \n",
        "# Prints training loss and validation loss \n",
        "get_loss_plot(Train_Loss, Val_Loss)"
      ],
      "metadata": {
        "colab": {
          "base_uri": "https://localhost:8080/",
          "height": 490
        },
        "id": "aDTjlQ2mhTD0",
        "outputId": "744c4274-9e48-4ba3-83c2-c9576d58d8ea"
      },
      "execution_count": 15,
      "outputs": [
        {
          "output_type": "display_data",
          "data": {
            "text/plain": [
              "<Figure size 640x480 with 1 Axes>"
            ],
            "image/png": "[encoded data removed]"
          },
          "metadata": {}
        },
        {
          "output_type": "display_data",
          "data": {
            "text/plain": [
              "<Figure size 640x480 with 0 Axes>"
            ]
          },
          "metadata": {}
        }
      ]
    },
    {
      "cell_type": "markdown",
      "source": [
        "#5.  Evaluate Best Saved Model on Test Dataset"
      ],
      "metadata": {
        "id": "U1sV811ZiemP"
      }
    },
    {
      "cell_type": "code",
      "source": [
        "# Load saved model's parameters\n",
        "model.load_state_dict(torch.load('model.pt'))\n",
        "\n",
        "# Calculate test loss and accuracy\n",
        "test_loss, test_acc = evaluate(model, test_dataloader, criterion, device)\n",
        "\n",
        "\n",
        "print(f'Test Loss: {test_loss:.3f} || Test Acc: {test_acc*100:.2f}%')"
      ],
      "metadata": {
        "colab": {
          "base_uri": "https://localhost:8080/"
        },
        "id": "O5qiQY3MiPdy",
        "outputId": "c1e9ce66-b744-4bcd-b60a-204324271d93"
      },
      "execution_count": 16,
      "outputs": [
        {
          "output_type": "stream",
          "name": "stdout",
          "text": [
            "Test Loss: 0.751 || Test Acc: 73.76%\n"
          ]
        }
      ]
    }
  ]
}